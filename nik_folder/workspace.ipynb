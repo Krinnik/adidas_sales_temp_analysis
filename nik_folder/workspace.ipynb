{
 "cells": [
  {
   "cell_type": "code",
   "execution_count": 2,
   "metadata": {},
   "outputs": [],
   "source": [
    "import pandas as pd\n",
    "from prophet import Prophet\n",
    "import datetime as dt\n",
    "import numpy as np\n",
    "from matplotlib import pyplot\n",
    "\n",
    "%matplotlib inline"
   ]
  },
  {
   "cell_type": "code",
   "execution_count": 10,
   "metadata": {},
   "outputs": [
    {
     "name": "stderr",
     "output_type": "stream",
     "text": [
      "C:\\Users\\Nik\\AppData\\Local\\Temp\\ipykernel_57928\\3011759352.py:2: UserWarning: Could not infer format, so each element will be parsed individually, falling back to `dateutil`. To ensure parsing is consistent and as-expected, please specify a format.\n",
      "  adidas_df = pd.read_excel(adidas_path,\n"
     ]
    }
   ],
   "source": [
    "adidas_path = '../Resources/Adidas US Sales Datasets.xlsx'\n",
    "adidas_df = pd.read_excel(adidas_path,\n",
    "                          index_col='Unnamed: 3',\n",
    "                          parse_dates=True)"
   ]
  },
  {
   "cell_type": "code",
   "execution_count": 14,
   "metadata": {},
   "outputs": [
    {
     "name": "stdout",
     "output_type": "stream",
     "text": [
      "<class 'pandas.core.frame.DataFrame'>\n",
      "Index: 9652 entries, nan to 2021-02-22 00:00:00\n",
      "Data columns (total 13 columns):\n",
      " #   Column       Non-Null Count  Dtype  \n",
      "---  ------       --------------  -----  \n",
      " 0   Unnamed: 0   0 non-null      float64\n",
      " 1   Unnamed: 1   9649 non-null   object \n",
      " 2   Unnamed: 2   9650 non-null   object \n",
      " 3   Unnamed: 4   9649 non-null   object \n",
      " 4   Unnamed: 5   9649 non-null   object \n",
      " 5   Unnamed: 6   9649 non-null   object \n",
      " 6   Unnamed: 7   9649 non-null   object \n",
      " 7   Unnamed: 8   9649 non-null   object \n",
      " 8   Unnamed: 9   9649 non-null   object \n",
      " 9   Unnamed: 10  9649 non-null   object \n",
      " 10  Unnamed: 11  9649 non-null   object \n",
      " 11  Unnamed: 12  9649 non-null   object \n",
      " 12  Unnamed: 13  9649 non-null   object \n",
      "dtypes: float64(1), object(12)\n",
      "memory usage: 1.0+ MB\n"
     ]
    }
   ],
   "source": [
    "adidas_df.info()"
   ]
  },
  {
   "cell_type": "code",
   "execution_count": 22,
   "metadata": {},
   "outputs": [],
   "source": [
    "monthly_temps_path = '../Resources/average_monthly_temperature_by_state_1950-2022.csv'\n",
    "monthly_temps_df = pd.read_csv(monthly_temps_path,\n",
    "                               index_col='year')"
   ]
  },
  {
   "cell_type": "code",
   "execution_count": 25,
   "metadata": {},
   "outputs": [
    {
     "name": "stdout",
     "output_type": "stream",
     "text": [
      "<class 'pandas.core.frame.DataFrame'>\n",
      "Index: 41856 entries, 1950 to 2022\n",
      "Data columns (total 7 columns):\n",
      " #   Column                          Non-Null Count  Dtype  \n",
      "---  ------                          --------------  -----  \n",
      " 0   Unnamed: 0                      41856 non-null  int64  \n",
      " 1   month                           41856 non-null  int64  \n",
      " 2   state                           41856 non-null  object \n",
      " 3   average_temp                    41856 non-null  float64\n",
      " 4   monthly_mean_from_1901_to_2000  41856 non-null  float64\n",
      " 5   centroid_lon                    41856 non-null  float64\n",
      " 6   centroid_lat                    41856 non-null  float64\n",
      "dtypes: float64(4), int64(2), object(1)\n",
      "memory usage: 2.6+ MB\n"
     ]
    }
   ],
   "source": [
    "monthly_temps_df.info()"
   ]
  },
  {
   "cell_type": "code",
   "execution_count": null,
   "metadata": {},
   "outputs": [],
   "source": []
  }
 ],
 "metadata": {
  "kernelspec": {
   "display_name": "dev",
   "language": "python",
   "name": "python3"
  },
  "language_info": {
   "codemirror_mode": {
    "name": "ipython",
    "version": 3
   },
   "file_extension": ".py",
   "mimetype": "text/x-python",
   "name": "python",
   "nbconvert_exporter": "python",
   "pygments_lexer": "ipython3",
   "version": "3.10.15"
  }
 },
 "nbformat": 4,
 "nbformat_minor": 2
}
